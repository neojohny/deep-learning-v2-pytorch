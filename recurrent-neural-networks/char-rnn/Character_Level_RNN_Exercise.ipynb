{
 "cells": [
  {
   "cell_type": "markdown",
   "metadata": {},
   "source": [
    "# Character-Level LSTM in PyTorch\n",
    "\n",
    "In this notebook, I'll construct a character-level LSTM with PyTorch. The network will train character by character on some text, then generate new text character by character. As an example, I will train on Anna Karenina. **This model will be able to generate new text based on the text from the book!**\n",
    "\n",
    "This network is based off of Andrej Karpathy's [post on RNNs](http://karpathy.github.io/2015/05/21/rnn-effectiveness/) and [implementation in Torch](https://github.com/karpathy/char-rnn). Below is the general architecture of the character-wise RNN.\n",
    "\n",
    "<img src=\"assets/charseq.jpeg\" width=\"500\">"
   ]
  },
  {
   "cell_type": "markdown",
   "metadata": {},
   "source": [
    "First let's load in our required resources for data loading and model creation."
   ]
  },
  {
   "cell_type": "code",
   "execution_count": 1,
   "metadata": {},
   "outputs": [],
   "source": [
    "import numpy as np\n",
    "import torch\n",
    "from torch import nn\n",
    "import torch.nn.functional as F"
   ]
  },
  {
   "cell_type": "markdown",
   "metadata": {},
   "source": [
    "## Load in Data\n",
    "\n",
    "Then, we'll load the Anna Karenina text file and convert it into integers for our network to use. "
   ]
  },
  {
   "cell_type": "code",
   "execution_count": 2,
   "metadata": {},
   "outputs": [],
   "source": [
    "# open text file and read in data as `text`\n",
    "with open('data/anna.txt', 'r') as f:\n",
    "    text = f.read()"
   ]
  },
  {
   "cell_type": "markdown",
   "metadata": {},
   "source": [
    "Let's check out the first 100 characters, make sure everything is peachy. According to the [American Book Review](http://americanbookreview.org/100bestlines.asp), this is the 6th best first line of a book ever."
   ]
  },
  {
   "cell_type": "code",
   "execution_count": 3,
   "metadata": {},
   "outputs": [
    {
     "data": {
      "text/plain": [
       "'Chapter 1\\n\\n\\nHappy families are all alike; every unhappy family is unhappy in its own\\nway.\\n\\nEverythin'"
      ]
     },
     "execution_count": 3,
     "metadata": {},
     "output_type": "execute_result"
    }
   ],
   "source": [
    "text[:100]"
   ]
  },
  {
   "cell_type": "markdown",
   "metadata": {},
   "source": [
    "### Tokenization\n",
    "\n",
    "In the cells, below, I'm creating a couple **dictionaries** to convert the characters to and from integers. Encoding the characters as integers makes it easier to use as input in the network."
   ]
  },
  {
   "cell_type": "code",
   "execution_count": 4,
   "metadata": {},
   "outputs": [],
   "source": [
    "# encode the text and map each character to an integer and vice versa\n",
    "\n",
    "# we create two dictionaries:\n",
    "# 1. int2char, which maps integers to characters\n",
    "# 2. char2int, which maps characters to unique integers\n",
    "chars = tuple(set(text))\n",
    "int2char = dict(enumerate(chars))\n",
    "char2int = {ch: ii for ii, ch in int2char.items()}\n",
    "\n",
    "# encode the text\n",
    "encoded = np.array([char2int[ch] for ch in text])"
   ]
  },
  {
   "cell_type": "markdown",
   "metadata": {},
   "source": [
    "And we can see those same characters from above, encoded as integers."
   ]
  },
  {
   "cell_type": "code",
   "execution_count": 5,
   "metadata": {},
   "outputs": [
    {
     "data": {
      "text/plain": [
       "array([27, 36,  8, 51, 69, 14, 73, 37, 29, 65, 65, 65, 74,  8, 51, 51, 48,\n",
       "       37, 56,  8, 70, 15, 12, 15, 14, 16, 37,  8, 73, 14, 37,  8, 12, 12,\n",
       "       37,  8, 12, 15,  4, 14,  5, 37, 14,  1, 14, 73, 48, 37, 46, 67, 36,\n",
       "        8, 51, 51, 48, 37, 56,  8, 70, 15, 12, 48, 37, 15, 16, 37, 46, 67,\n",
       "       36,  8, 51, 51, 48, 37, 15, 67, 37, 15, 69, 16, 37,  9,  6, 67, 65,\n",
       "        6,  8, 48, 35, 65, 65, 17,  1, 14, 73, 48, 69, 36, 15, 67])"
      ]
     },
     "execution_count": 5,
     "metadata": {},
     "output_type": "execute_result"
    }
   ],
   "source": [
    "encoded[:100]"
   ]
  },
  {
   "cell_type": "markdown",
   "metadata": {},
   "source": [
    "## Pre-processing the data\n",
    "\n",
    "As you can see in our char-RNN image above, our LSTM expects an input that is **one-hot encoded** meaning that each character is converted into an integer (via our created dictionary) and *then* converted into a column vector where only it's corresponding integer index will have the value of 1 and the rest of the vector will be filled with 0's. Since we're one-hot encoding the data, let's make a function to do that!\n"
   ]
  },
  {
   "cell_type": "code",
   "execution_count": 6,
   "metadata": {},
   "outputs": [],
   "source": [
    "def one_hot_encode(arr, n_labels):\n",
    "    \n",
    "    # Initialize the the encoded array\n",
    "    one_hot = np.zeros((np.multiply(*arr.shape), n_labels), dtype=np.float32)\n",
    "    \n",
    "    # Fill the appropriate elements with ones\n",
    "    one_hot[np.arange(one_hot.shape[0]), arr.flatten()] = 1.\n",
    "    \n",
    "    # Finally reshape it to get back to the original array\n",
    "    one_hot = one_hot.reshape((*arr.shape, n_labels))\n",
    "    \n",
    "    return one_hot"
   ]
  },
  {
   "cell_type": "code",
   "execution_count": 7,
   "metadata": {},
   "outputs": [
    {
     "name": "stdout",
     "output_type": "stream",
     "text": [
      "[[[ 0.  0.  0.  1.  0.  0.  0.  0.]\n",
      "  [ 0.  0.  0.  0.  0.  1.  0.  0.]\n",
      "  [ 0.  1.  0.  0.  0.  0.  0.  0.]]]\n"
     ]
    }
   ],
   "source": [
    "# check that the function works as expected\n",
    "test_seq = np.array([[3, 5, 1]])\n",
    "one_hot = one_hot_encode(test_seq, 8)\n",
    "\n",
    "print(one_hot)"
   ]
  },
  {
   "cell_type": "markdown",
   "metadata": {},
   "source": [
    "## Making training mini-batches\n",
    "\n",
    "\n",
    "To train on this data, we also want to create mini-batches for training. Remember that we want our batches to be multiple sequences of some desired number of sequence steps. Considering a simple example, our batches would look like this:\n",
    "\n",
    "<img src=\"assets/sequence_batching@1x.png\" width=500px>\n",
    "\n",
    "\n",
    "<br>\n",
    "\n",
    "In this example, we'll take the encoded characters (passed in as the `arr` parameter) and split them into multiple sequences, given by `batch_size`. Each of our sequences will be `seq_length` long.\n",
    "\n",
    "### Creating Batches\n",
    "\n",
    "**1. The first thing we need to do is discard some of the text so we only have completely full mini-batches. **\n",
    "\n",
    "Each batch contains $N \\times M$ characters, where $N$ is the batch size (the number of sequences in a batch) and $M$ is the seq_length or number of time steps in a sequence. Then, to get the total number of batches, $K$, that we can make from the array `arr`, you divide the length of `arr` by the number of characters per batch. Once you know the number of batches, you can get the total number of characters to keep from `arr`, $N * M * K$.\n",
    "\n",
    "**2. After that, we need to split `arr` into $N$ batches. ** \n",
    "\n",
    "You can do this using `arr.reshape(size)` where `size` is a tuple containing the dimensions sizes of the reshaped array. We know we want $N$ sequences in a batch, so let's make that the size of the first dimension. For the second dimension, you can use `-1` as a placeholder in the size, it'll fill up the array with the appropriate data for you. After this, you should have an array that is $N \\times (M * K)$.\n",
    "\n",
    "**3. Now that we have this array, we can iterate through it to get our mini-batches. **\n",
    "\n",
    "The idea is each batch is a $N \\times M$ window on the $N \\times (M * K)$ array. For each subsequent batch, the window moves over by `seq_length`. We also want to create both the input and target arrays. Remember that the targets are just the inputs shifted over by one character. The way I like to do this window is use `range` to take steps of size `n_steps` from $0$ to `arr.shape[1]`, the total number of tokens in each sequence. That way, the integers you get from `range` always point to the start of a batch, and each window is `seq_length` wide.\n",
    "\n",
    "> **TODO:** Write the code for creating batches in the function below. The exercises in this notebook _will not be easy_. I've provided a notebook with solutions alongside this notebook. If you get stuck, checkout the solutions. The most important thing is that you don't copy and paste the code into here, **type out the solution code yourself.**"
   ]
  },
  {
   "cell_type": "code",
   "execution_count": 30,
   "metadata": {},
   "outputs": [],
   "source": [
    "def get_batches(arr, batch_size, seq_length):\n",
    "    '''Create a generator that returns batches of size\n",
    "       batch_size x seq_length from arr.\n",
    "       \n",
    "       Arguments\n",
    "       ---------\n",
    "       arr: Array you want to make batches from\n",
    "       batch_size: Batch size, the number of sequences per batch\n",
    "       seq_length: Number of encoded chars in a sequence\n",
    "    '''\n",
    "    \n",
    "    batch_size_total = batch_size * seq_length\n",
    "    # total number of batches we can make\n",
    "    n_batches = len(arr)//batch_size_total\n",
    "    \n",
    "    # Keep only enough characters to make full batches\n",
    "    arr = arr[:n_batches * batch_size_total]\n",
    "    # Reshape into batch_size rows\n",
    "    arr = arr.reshape((batch_size, -1))\n",
    "    \n",
    "    # iterate through the array, one sequence at a time\n",
    "    for n in range(0, arr.shape[1], seq_length):\n",
    "        # The features\n",
    "        x = arr[:, n:n+seq_length]\n",
    "        # The targets, shifted by one\n",
    "        y = np.zeros_like(x)\n",
    "        try:\n",
    "            y[:, :-1], y[:, -1] = x[:, 1:], arr[:, n+seq_length]\n",
    "        except IndexError:\n",
    "            y[:, :-1], y[:, -1] = x[:, 1:], arr[:, 0]\n",
    "        z = arr[:,n+1:n+seq_length+1]\n",
    "        yield x, y"
   ]
  },
  {
   "cell_type": "markdown",
   "metadata": {},
   "source": [
    "### Test Your Implementation\n",
    "\n",
    "Now I'll make some data sets and we can check out what's going on as we batch data. Here, as an example, I'm going to use a batch size of 8 and 50 sequence steps."
   ]
  },
  {
   "cell_type": "code",
   "execution_count": 20,
   "metadata": {},
   "outputs": [],
   "source": [
    "batches = get_batches(encoded, 8, 50)\n",
    "x, y,z = next(batches)"
   ]
  },
  {
   "cell_type": "code",
   "execution_count": 21,
   "metadata": {},
   "outputs": [
    {
     "data": {
      "text/plain": [
       "array([[36,  8, 51, 69, 14, 73, 37, 29, 65, 65, 65, 74,  8, 51, 51, 48, 37,\n",
       "        56,  8, 70, 15, 12, 15, 14, 16, 37,  8, 73, 14, 37,  8, 12, 12, 37,\n",
       "         8, 12, 15,  4, 14,  5, 37, 14,  1, 14, 73, 48, 37, 46, 67, 36],\n",
       "       [ 9, 67, 37, 69, 36,  8, 69, 37,  8, 69, 69, 73,  8, 18, 69, 14, 79,\n",
       "        37, 36, 14, 73, 37,  8, 69, 69, 14, 67, 69, 15,  9, 67, 37,  6,  8,\n",
       "        16, 37, 36, 14, 73, 37, 36, 46, 16, 10,  8, 67, 79, 35, 37, 53],\n",
       "       [67, 79, 37,  9, 73, 37,  8, 37, 56,  9, 14, 71, 37, 36, 14, 37,  8,\n",
       "         1,  9, 15, 79, 14, 79, 37, 36, 15, 16, 37, 56,  8, 69, 36, 14, 73,\n",
       "        35, 37, 74, 14, 65, 12,  9,  9,  4, 14, 79, 37, 73,  9, 46, 67],\n",
       "       [37, 69, 36, 14, 37, 18, 36, 15, 14, 56, 37, 69, 36,  9, 46, 38, 36,\n",
       "        37, 36, 15, 79, 79, 14, 67, 65, 15, 67, 69, 14, 73, 14, 16, 69, 37,\n",
       "         9, 56, 37, 36, 15, 16, 37, 12, 15, 56, 14, 71, 37,  9, 56, 37],\n",
       "       [16,  8,  6, 37, 36, 14, 73, 37, 69, 14,  8, 73, 57, 16, 69,  8, 15,\n",
       "        67, 14, 79, 71, 37, 51, 15, 69, 15, 56, 46, 12, 71, 37, 16,  6, 14,\n",
       "        14, 69, 37, 56,  8, 18, 14, 71, 65, 70, 15, 16, 14, 73,  8, 10],\n",
       "       [46, 16, 16, 15,  9, 67, 37,  8, 67, 79, 37,  8, 67,  8, 12, 48, 16,\n",
       "        15, 16, 71, 37,  6,  8, 16, 37, 15, 67, 37, 51, 73, 15, 67, 18, 15,\n",
       "        51, 12, 14, 37, 79, 15, 16,  8, 38, 73, 14, 14,  8, 10, 12, 14],\n",
       "       [62, 67, 67,  8, 37, 36,  8, 79, 37, 16,  8, 15, 79, 37, 69, 36,  8,\n",
       "        69, 37, 68,  9, 12, 12, 48, 37,  6,  9, 46, 12, 79, 37, 14, 64, 18,\n",
       "        46, 16, 14, 37, 15, 69, 35, 37, 62, 67, 79, 37, 69, 36, 15, 16],\n",
       "       [10, 12,  9, 67, 16,  4, 48, 35, 37, 53, 33, 46, 69, 37, 42, 69, 36,\n",
       "        14, 48, 42, 37, 18,  8, 67, 67,  9, 69, 37, 38, 73,  8, 16, 51, 37,\n",
       "        69, 36,  8, 69, 71, 65, 42, 69, 36, 14, 48, 42, 37,  8, 73, 14]])"
      ]
     },
     "execution_count": 21,
     "metadata": {},
     "output_type": "execute_result"
    }
   ],
   "source": [
    "y"
   ]
  },
  {
   "cell_type": "code",
   "execution_count": 22,
   "metadata": {},
   "outputs": [
    {
     "data": {
      "text/plain": [
       "array([[ True,  True,  True,  True,  True,  True,  True,  True,  True,\n",
       "         True,  True,  True,  True,  True,  True,  True,  True,  True,\n",
       "         True,  True,  True,  True,  True,  True,  True,  True,  True,\n",
       "         True,  True,  True,  True,  True,  True,  True,  True,  True,\n",
       "         True,  True,  True,  True,  True,  True,  True,  True,  True,\n",
       "         True,  True,  True,  True,  True],\n",
       "       [ True,  True,  True,  True,  True,  True,  True,  True,  True,\n",
       "         True,  True,  True,  True,  True,  True,  True,  True,  True,\n",
       "         True,  True,  True,  True,  True,  True,  True,  True,  True,\n",
       "         True,  True,  True,  True,  True,  True,  True,  True,  True,\n",
       "         True,  True,  True,  True,  True,  True,  True,  True,  True,\n",
       "         True,  True,  True,  True,  True],\n",
       "       [ True,  True,  True,  True,  True,  True,  True,  True,  True,\n",
       "         True,  True,  True,  True,  True,  True,  True,  True,  True,\n",
       "         True,  True,  True,  True,  True,  True,  True,  True,  True,\n",
       "         True,  True,  True,  True,  True,  True,  True,  True,  True,\n",
       "         True,  True,  True,  True,  True,  True,  True,  True,  True,\n",
       "         True,  True,  True,  True,  True],\n",
       "       [ True,  True,  True,  True,  True,  True,  True,  True,  True,\n",
       "         True,  True,  True,  True,  True,  True,  True,  True,  True,\n",
       "         True,  True,  True,  True,  True,  True,  True,  True,  True,\n",
       "         True,  True,  True,  True,  True,  True,  True,  True,  True,\n",
       "         True,  True,  True,  True,  True,  True,  True,  True,  True,\n",
       "         True,  True,  True,  True,  True],\n",
       "       [ True,  True,  True,  True,  True,  True,  True,  True,  True,\n",
       "         True,  True,  True,  True,  True,  True,  True,  True,  True,\n",
       "         True,  True,  True,  True,  True,  True,  True,  True,  True,\n",
       "         True,  True,  True,  True,  True,  True,  True,  True,  True,\n",
       "         True,  True,  True,  True,  True,  True,  True,  True,  True,\n",
       "         True,  True,  True,  True,  True],\n",
       "       [ True,  True,  True,  True,  True,  True,  True,  True,  True,\n",
       "         True,  True,  True,  True,  True,  True,  True,  True,  True,\n",
       "         True,  True,  True,  True,  True,  True,  True,  True,  True,\n",
       "         True,  True,  True,  True,  True,  True,  True,  True,  True,\n",
       "         True,  True,  True,  True,  True,  True,  True,  True,  True,\n",
       "         True,  True,  True,  True,  True],\n",
       "       [ True,  True,  True,  True,  True,  True,  True,  True,  True,\n",
       "         True,  True,  True,  True,  True,  True,  True,  True,  True,\n",
       "         True,  True,  True,  True,  True,  True,  True,  True,  True,\n",
       "         True,  True,  True,  True,  True,  True,  True,  True,  True,\n",
       "         True,  True,  True,  True,  True,  True,  True,  True,  True,\n",
       "         True,  True,  True,  True,  True],\n",
       "       [ True,  True,  True,  True,  True,  True,  True,  True,  True,\n",
       "         True,  True,  True,  True,  True,  True,  True,  True,  True,\n",
       "         True,  True,  True,  True,  True,  True,  True,  True,  True,\n",
       "         True,  True,  True,  True,  True,  True,  True,  True,  True,\n",
       "         True,  True,  True,  True,  True,  True,  True,  True,  True,\n",
       "         True,  True,  True,  True,  True]], dtype=bool)"
      ]
     },
     "execution_count": 22,
     "metadata": {},
     "output_type": "execute_result"
    }
   ],
   "source": [
    "z==y"
   ]
  },
  {
   "cell_type": "code",
   "execution_count": 11,
   "metadata": {},
   "outputs": [
    {
     "name": "stdout",
     "output_type": "stream",
     "text": [
      "x\n",
      " [[27 36  8 51 69 14 73 37 29 65]\n",
      " [16  9 67 37 69 36  8 69 37  8]\n",
      " [14 67 79 37  9 73 37  8 37 56]\n",
      " [16 37 69 36 14 37 18 36 15 14]\n",
      " [37 16  8  6 37 36 14 73 37 69]\n",
      " [18 46 16 16 15  9 67 37  8 67]\n",
      " [37 62 67 67  8 37 36  8 79 37]\n",
      " [81 10 12  9 67 16  4 48 35 37]]\n",
      "\n",
      "y\n",
      " [[36  8 51 69 14 73 37 29 65 65]\n",
      " [ 9 67 37 69 36  8 69 37  8 69]\n",
      " [67 79 37  9 73 37  8 37 56  9]\n",
      " [37 69 36 14 37 18 36 15 14 56]\n",
      " [16  8  6 37 36 14 73 37 69 14]\n",
      " [46 16 16 15  9 67 37  8 67 79]\n",
      " [62 67 67  8 37 36  8 79 37 16]\n",
      " [10 12  9 67 16  4 48 35 37 53]]\n"
     ]
    }
   ],
   "source": [
    "# printing out the first 10 items in a sequence\n",
    "print('x\\n', x[:10, :10])\n",
    "print('\\ny\\n', y[:10, :10])"
   ]
  },
  {
   "cell_type": "markdown",
   "metadata": {},
   "source": [
    "If you implemented `get_batches` correctly, the above output should look something like \n",
    "```\n",
    "x\n",
    " [[25  8 60 11 45 27 28 73  1  2]\n",
    " [17  7 20 73 45  8 60 45 73 60]\n",
    " [27 20 80 73  7 28 73 60 73 65]\n",
    " [17 73 45  8 27 73 66  8 46 27]\n",
    " [73 17 60 12 73  8 27 28 73 45]\n",
    " [66 64 17 17 46  7 20 73 60 20]\n",
    " [73 76 20 20 60 73  8 60 80 73]\n",
    " [47 35 43  7 20 17 24 50 37 73]]\n",
    "\n",
    "y\n",
    " [[ 8 60 11 45 27 28 73  1  2  2]\n",
    " [ 7 20 73 45  8 60 45 73 60 45]\n",
    " [20 80 73  7 28 73 60 73 65  7]\n",
    " [73 45  8 27 73 66  8 46 27 65]\n",
    " [17 60 12 73  8 27 28 73 45 27]\n",
    " [64 17 17 46  7 20 73 60 20 80]\n",
    " [76 20 20 60 73  8 60 80 73 17]\n",
    " [35 43  7 20 17 24 50 37 73 36]]\n",
    " ```\n",
    " although the exact numbers may be different. Check to make sure the data is shifted over one step for `y`."
   ]
  },
  {
   "cell_type": "markdown",
   "metadata": {},
   "source": [
    "---\n",
    "## Defining the network with PyTorch\n",
    "\n",
    "Below is where you'll define the network.\n",
    "\n",
    "<img src=\"assets/charRNN.png\" width=500px>\n",
    "\n",
    "Next, you'll use PyTorch to define the architecture of the network. We start by defining the layers and operations we want. Then, define a method for the forward pass. You've also been given a method for predicting characters."
   ]
  },
  {
   "cell_type": "markdown",
   "metadata": {},
   "source": [
    "### Model Structure\n",
    "\n",
    "In `__init__` the suggested structure is as follows:\n",
    "* Create and store the necessary dictionaries (this has been done for you)\n",
    "* Define an LSTM layer that takes as params: an input size (the number of characters), a hidden layer size `n_hidden`, a number of layers `n_layers`, a dropout probability `drop_prob`, and a batch_first boolean (True, since we are batching)\n",
    "* Define a dropout layer with `dropout_prob`\n",
    "* Define a fully-connected layer with params: input size `n_hidden` and output size (the number of characters)\n",
    "* Finally, initialize the weights (again, this has been given)\n",
    "\n",
    "Note that some parameters have been named and given in the `__init__` function, and we use them and store them by doing something like `self.drop_prob = drop_prob`."
   ]
  },
  {
   "cell_type": "markdown",
   "metadata": {},
   "source": [
    "---\n",
    "### LSTM Inputs/Outputs\n",
    "\n",
    "You can create a basic [LSTM layer](https://pytorch.org/docs/stable/nn.html#lstm) as follows\n",
    "\n",
    "```python\n",
    "self.lstm = nn.LSTM(input_size, n_hidden, n_layers, \n",
    "                            dropout=drop_prob, batch_first=True)\n",
    "```\n",
    "\n",
    "where `input_size` is the number of characters this cell expects to see as sequential input, and `n_hidden` is the number of units in the hidden layers in the cell. And we can add dropout by adding a dropout parameter with a specified probability; this will automatically add dropout to the inputs or outputs. Finally, in the `forward` function, we can stack up the LSTM cells into layers using `.view`. With this, you pass in a list of cells and it will send the output of one cell into the next cell.\n",
    "\n",
    "We also need to create an initial hidden state of all zeros. This is done like so\n",
    "\n",
    "```python\n",
    "self.init_hidden()\n",
    "```"
   ]
  },
  {
   "cell_type": "code",
   "execution_count": 26,
   "metadata": {},
   "outputs": [
    {
     "name": "stdout",
     "output_type": "stream",
     "text": [
      "Training on GPU!\n"
     ]
    }
   ],
   "source": [
    "# check if GPU is available\n",
    "train_on_gpu = torch.cuda.is_available()\n",
    "if(train_on_gpu):\n",
    "    print('Training on GPU!')\n",
    "else: \n",
    "    print('No GPU available, training on CPU; consider making n_epochs very small.')"
   ]
  },
  {
   "cell_type": "code",
   "execution_count": 24,
   "metadata": {},
   "outputs": [],
   "source": [
    "class CharRNN(nn.Module):\n",
    "    \n",
    "    def __init__(self, tokens, n_hidden=256, n_layers=2,\n",
    "                               drop_prob=0.5, lr=0.001):\n",
    "        super().__init__()\n",
    "        self.drop_prob = drop_prob\n",
    "        self.n_layers = n_layers\n",
    "        self.n_hidden = n_hidden\n",
    "        self.lr = lr\n",
    "        \n",
    "        # creating character dictionaries\n",
    "        self.chars = tokens\n",
    "        self.int2char = dict(enumerate(self.chars))\n",
    "        self.char2int = {ch: ii for ii, ch in self.int2char.items()}\n",
    "        \n",
    "        ## TODO: define the LSTM\n",
    "        self.lstm = nn.LSTM(len(self.chars), n_hidden, n_layers, \n",
    "                            dropout=drop_prob, batch_first=True)\n",
    "        \n",
    "        ## TODO: define a dropout layer\n",
    "        self.dropout = nn.Dropout(drop_prob)\n",
    "        \n",
    "        ## TODO: define the final, fully-connected output layer\n",
    "        self.fc = nn.Linear(n_hidden, len(self.chars))\n",
    "      \n",
    "    \n",
    "    def forward(self, x, hidden):\n",
    "        ''' Forward pass through the network. \n",
    "            These inputs are x, and the hidden/cell state `hidden`. '''\n",
    "                \n",
    "        ## TODO: Get the outputs and the new hidden state from the lstm\n",
    "        r_output, hidden = self.lstm(x, hidden)\n",
    "        \n",
    "        ## TODO: pass through a dropout layer\n",
    "        out = self.dropout(r_output)\n",
    "        \n",
    "        # Stack up LSTM outputs using view\n",
    "        # you may need to use contiguous to reshape the output\n",
    "        out = out.contiguous().view(-1, self.n_hidden)\n",
    "        \n",
    "        ## TODO: put x through the fully-connected layer\n",
    "        out = self.fc(out)\n",
    "        \n",
    "        # return the final output and the hidden state\n",
    "        return out, hidden\n",
    "    \n",
    "    \n",
    "    def init_hidden(self, batch_size):\n",
    "        ''' Initializes hidden state '''\n",
    "        # Create two new tensors with sizes n_layers x batch_size x n_hidden,\n",
    "        # initialized to zero, for hidden state and cell state of LSTM\n",
    "        weight = next(self.parameters()).data\n",
    "        \n",
    "        if (train_on_gpu):\n",
    "            hidden = (weight.new(self.n_layers, batch_size, self.n_hidden).zero_().cuda(),\n",
    "                  weight.new(self.n_layers, batch_size, self.n_hidden).zero_().cuda())\n",
    "        else:\n",
    "            hidden = (weight.new(self.n_layers, batch_size, self.n_hidden).zero_(),\n",
    "                      weight.new(self.n_layers, batch_size, self.n_hidden).zero_())\n",
    "        \n",
    "        return hidden\n",
    "        "
   ]
  },
  {
   "cell_type": "markdown",
   "metadata": {},
   "source": [
    "## Time to train\n",
    "\n",
    "The train function gives us the ability to set the number of epochs, the learning rate, and other parameters.\n",
    "\n",
    "Below we're using an Adam optimizer and cross entropy loss since we are looking at character class scores as output. We calculate the loss and perform backpropagation, as usual!\n",
    "\n",
    "A couple of details about training: \n",
    ">* Within the batch loop, we detach the hidden state from its history; this time setting it equal to a new *tuple* variable because an LSTM has a hidden state that is a tuple of the hidden and cell states.\n",
    "* We use [`clip_grad_norm_`](https://pytorch.org/docs/stable/_modules/torch/nn/utils/clip_grad.html) to help prevent exploding gradients."
   ]
  },
  {
   "cell_type": "code",
   "execution_count": 27,
   "metadata": {},
   "outputs": [],
   "source": [
    "def train(net, data, epochs=10, batch_size=10, seq_length=50, lr=0.001, clip=5, val_frac=0.1, print_every=10):\n",
    "    ''' Training a network \n",
    "    \n",
    "        Arguments\n",
    "        ---------\n",
    "        \n",
    "        net: CharRNN network\n",
    "        data: text data to train the network\n",
    "        epochs: Number of epochs to train\n",
    "        batch_size: Number of mini-sequences per mini-batch, aka batch size\n",
    "        seq_length: Number of character steps per mini-batch\n",
    "        lr: learning rate\n",
    "        clip: gradient clipping\n",
    "        val_frac: Fraction of data to hold out for validation\n",
    "        print_every: Number of steps for printing training and validation loss\n",
    "    \n",
    "    '''\n",
    "    net.train()\n",
    "    \n",
    "    opt = torch.optim.Adam(net.parameters(), lr=lr)\n",
    "    criterion = nn.CrossEntropyLoss()\n",
    "    \n",
    "    # create training and validation data\n",
    "    val_idx = int(len(data)*(1-val_frac))\n",
    "    data, val_data = data[:val_idx], data[val_idx:]\n",
    "    \n",
    "    if(train_on_gpu):\n",
    "        net.cuda()\n",
    "    \n",
    "    counter = 0\n",
    "    n_chars = len(net.chars)\n",
    "    for e in range(epochs):\n",
    "        # initialize hidden state\n",
    "        h = net.init_hidden(batch_size)\n",
    "        \n",
    "        for x, y in get_batches(data, batch_size, seq_length):\n",
    "            counter += 1\n",
    "            \n",
    "            # One-hot encode our data and make them Torch tensors\n",
    "            x = one_hot_encode(x, n_chars)\n",
    "            inputs, targets = torch.from_numpy(x), torch.from_numpy(y)\n",
    "            \n",
    "            if(train_on_gpu):\n",
    "                inputs, targets = inputs.cuda(), targets.cuda()\n",
    "\n",
    "            # Creating new variables for the hidden state, otherwise\n",
    "            # we'd backprop through the entire training history\n",
    "            h = tuple([each.data for each in h])\n",
    "\n",
    "            # zero accumulated gradients\n",
    "            net.zero_grad()\n",
    "            \n",
    "            # get the output from the model\n",
    "            output, h = net(inputs, h)\n",
    "            \n",
    "            # calculate the loss and perform backprop\n",
    "            loss = criterion(output, targets.view(batch_size*seq_length))\n",
    "            loss.backward()\n",
    "            # `clip_grad_norm` helps prevent the exploding gradient problem in RNNs / LSTMs.\n",
    "            nn.utils.clip_grad_norm_(net.parameters(), clip)\n",
    "            opt.step()\n",
    "            \n",
    "            # loss stats\n",
    "            if counter % print_every == 0:\n",
    "                # Get validation loss\n",
    "                val_h = net.init_hidden(batch_size)\n",
    "                val_losses = []\n",
    "                net.eval()\n",
    "                for x, y in get_batches(val_data, batch_size, seq_length):\n",
    "                    # One-hot encode our data and make them Torch tensors\n",
    "                    x = one_hot_encode(x, n_chars)\n",
    "                    x, y = torch.from_numpy(x), torch.from_numpy(y)\n",
    "                    \n",
    "                    # Creating new variables for the hidden state, otherwise\n",
    "                    # we'd backprop through the entire training history\n",
    "                    val_h = tuple([each.data for each in val_h])\n",
    "                    \n",
    "                    inputs, targets = x, y\n",
    "                    if(train_on_gpu):\n",
    "                        inputs, targets = inputs.cuda(), targets.cuda()\n",
    "\n",
    "                    output, val_h = net(inputs, val_h)\n",
    "                    val_loss = criterion(output, targets.view(batch_size*seq_length))\n",
    "                \n",
    "                    val_losses.append(val_loss.item())\n",
    "                \n",
    "                net.train() # reset to train mode after iterationg through validation data\n",
    "                \n",
    "                print(\"Epoch: {}/{}...\".format(e+1, epochs),\n",
    "                      \"Step: {}...\".format(counter),\n",
    "                      \"Loss: {:.4f}...\".format(loss.item()),\n",
    "                      \"Val Loss: {:.4f}\".format(np.mean(val_losses)))"
   ]
  },
  {
   "cell_type": "markdown",
   "metadata": {},
   "source": [
    "## Instantiating the model\n",
    "\n",
    "Now we can actually train the network. First we'll create the network itself, with some given hyperparameters. Then, define the mini-batches sizes, and start training!"
   ]
  },
  {
   "cell_type": "code",
   "execution_count": 28,
   "metadata": {},
   "outputs": [
    {
     "name": "stdout",
     "output_type": "stream",
     "text": [
      "CharRNN(\n",
      "  (lstm): LSTM(83, 512, num_layers=2, batch_first=True, dropout=0.5)\n",
      "  (dropout): Dropout(p=0.5)\n",
      "  (fc): Linear(in_features=512, out_features=83, bias=True)\n",
      ")\n"
     ]
    }
   ],
   "source": [
    "## TODO: set you model hyperparameters\n",
    "# define and print the net\n",
    "n_hidden= 512\n",
    "n_layers= 2\n",
    "\n",
    "net = CharRNN(chars, n_hidden, n_layers)\n",
    "print(net)"
   ]
  },
  {
   "cell_type": "markdown",
   "metadata": {},
   "source": [
    "### Set your training hyperparameters!"
   ]
  },
  {
   "cell_type": "code",
   "execution_count": 39,
   "metadata": {
    "scrolled": true
   },
   "outputs": [
    {
     "name": "stdout",
     "output_type": "stream",
     "text": [
      "Epoch: 1/5... Step: 10... Loss: 2.3133... Val Loss: 2.2947\n",
      "Epoch: 1/5... Step: 20... Loss: 2.2731... Val Loss: 2.2641\n",
      "Epoch: 1/5... Step: 30... Loss: 2.2737... Val Loss: 2.2293\n",
      "Epoch: 1/5... Step: 40... Loss: 2.2042... Val Loss: 2.2036\n",
      "Epoch: 1/5... Step: 50... Loss: 2.2238... Val Loss: 2.1723\n",
      "Epoch: 1/5... Step: 60... Loss: 2.1499... Val Loss: 2.1455\n",
      "Epoch: 1/5... Step: 70... Loss: 2.1376... Val Loss: 2.1276\n",
      "Epoch: 1/5... Step: 80... Loss: 2.1027... Val Loss: 2.0965\n",
      "Epoch: 1/5... Step: 90... Loss: 2.1123... Val Loss: 2.0712\n",
      "Epoch: 1/5... Step: 100... Loss: 2.0642... Val Loss: 2.0460\n",
      "Epoch: 1/5... Step: 110... Loss: 2.0273... Val Loss: 2.0259\n",
      "Epoch: 1/5... Step: 120... Loss: 1.9864... Val Loss: 2.0046\n",
      "Epoch: 1/5... Step: 130... Loss: 2.0142... Val Loss: 1.9823\n",
      "Epoch: 2/5... Step: 140... Loss: 2.0035... Val Loss: 1.9629\n",
      "Epoch: 2/5... Step: 150... Loss: 1.9743... Val Loss: 1.9437\n",
      "Epoch: 2/5... Step: 160... Loss: 1.9566... Val Loss: 1.9290\n",
      "Epoch: 2/5... Step: 170... Loss: 1.9363... Val Loss: 1.9079\n",
      "Epoch: 2/5... Step: 180... Loss: 1.8934... Val Loss: 1.8951\n",
      "Epoch: 2/5... Step: 190... Loss: 1.8479... Val Loss: 1.8737\n",
      "Epoch: 2/5... Step: 200... Loss: 1.8507... Val Loss: 1.8544\n",
      "Epoch: 2/5... Step: 210... Loss: 1.8545... Val Loss: 1.8431\n",
      "Epoch: 2/5... Step: 220... Loss: 1.8273... Val Loss: 1.8270\n",
      "Epoch: 2/5... Step: 230... Loss: 1.8288... Val Loss: 1.8082\n",
      "Epoch: 2/5... Step: 240... Loss: 1.8289... Val Loss: 1.7965\n",
      "Epoch: 2/5... Step: 250... Loss: 1.7842... Val Loss: 1.7806\n",
      "Epoch: 2/5... Step: 260... Loss: 1.7505... Val Loss: 1.7683\n",
      "Epoch: 2/5... Step: 270... Loss: 1.7885... Val Loss: 1.7553\n",
      "Epoch: 3/5... Step: 280... Loss: 1.7686... Val Loss: 1.7402\n",
      "Epoch: 3/5... Step: 290... Loss: 1.7626... Val Loss: 1.7238\n",
      "Epoch: 3/5... Step: 300... Loss: 1.7247... Val Loss: 1.7167\n",
      "Epoch: 3/5... Step: 310... Loss: 1.7179... Val Loss: 1.7079\n",
      "Epoch: 3/5... Step: 320... Loss: 1.6783... Val Loss: 1.6972\n",
      "Epoch: 3/5... Step: 330... Loss: 1.6764... Val Loss: 1.6839\n",
      "Epoch: 3/5... Step: 340... Loss: 1.7208... Val Loss: 1.6736\n",
      "Epoch: 3/5... Step: 350... Loss: 1.6737... Val Loss: 1.6681\n",
      "Epoch: 3/5... Step: 360... Loss: 1.6364... Val Loss: 1.6605\n",
      "Epoch: 3/5... Step: 370... Loss: 1.6653... Val Loss: 1.6531\n",
      "Epoch: 3/5... Step: 380... Loss: 1.6596... Val Loss: 1.6418\n",
      "Epoch: 3/5... Step: 390... Loss: 1.6337... Val Loss: 1.6323\n",
      "Epoch: 3/5... Step: 400... Loss: 1.6146... Val Loss: 1.6247\n",
      "Epoch: 3/5... Step: 410... Loss: 1.6255... Val Loss: 1.6147\n",
      "Epoch: 4/5... Step: 420... Loss: 1.6270... Val Loss: 1.6100\n",
      "Epoch: 4/5... Step: 430... Loss: 1.6238... Val Loss: 1.6000\n",
      "Epoch: 4/5... Step: 440... Loss: 1.6220... Val Loss: 1.5943\n",
      "Epoch: 4/5... Step: 450... Loss: 1.5600... Val Loss: 1.5839\n",
      "Epoch: 4/5... Step: 460... Loss: 1.5414... Val Loss: 1.5781\n",
      "Epoch: 4/5... Step: 470... Loss: 1.6042... Val Loss: 1.5695\n",
      "Epoch: 4/5... Step: 480... Loss: 1.5738... Val Loss: 1.5659\n",
      "Epoch: 4/5... Step: 490... Loss: 1.5834... Val Loss: 1.5619\n",
      "Epoch: 4/5... Step: 500... Loss: 1.5807... Val Loss: 1.5539\n",
      "Epoch: 4/5... Step: 510... Loss: 1.5573... Val Loss: 1.5500\n",
      "Epoch: 4/5... Step: 520... Loss: 1.5736... Val Loss: 1.5447\n",
      "Epoch: 4/5... Step: 530... Loss: 1.5465... Val Loss: 1.5425\n",
      "Epoch: 4/5... Step: 540... Loss: 1.5169... Val Loss: 1.5322\n",
      "Epoch: 4/5... Step: 550... Loss: 1.5728... Val Loss: 1.5315\n",
      "Epoch: 5/5... Step: 560... Loss: 1.5309... Val Loss: 1.5254\n",
      "Epoch: 5/5... Step: 570... Loss: 1.5265... Val Loss: 1.5208\n",
      "Epoch: 5/5... Step: 580... Loss: 1.5145... Val Loss: 1.5176\n",
      "Epoch: 5/5... Step: 590... Loss: 1.5051... Val Loss: 1.5067\n",
      "Epoch: 5/5... Step: 600... Loss: 1.4947... Val Loss: 1.5038\n",
      "Epoch: 5/5... Step: 610... Loss: 1.4869... Val Loss: 1.5011\n",
      "Epoch: 5/5... Step: 620... Loss: 1.4946... Val Loss: 1.5038\n",
      "Epoch: 5/5... Step: 630... Loss: 1.5096... Val Loss: 1.4989\n",
      "Epoch: 5/5... Step: 640... Loss: 1.4691... Val Loss: 1.4905\n",
      "Epoch: 5/5... Step: 650... Loss: 1.4923... Val Loss: 1.4867\n",
      "Epoch: 5/5... Step: 660... Loss: 1.4611... Val Loss: 1.4781\n",
      "Epoch: 5/5... Step: 670... Loss: 1.4926... Val Loss: 1.4774\n",
      "Epoch: 5/5... Step: 680... Loss: 1.4857... Val Loss: 1.4708\n",
      "Epoch: 5/5... Step: 690... Loss: 1.4693... Val Loss: 1.4695\n"
     ]
    }
   ],
   "source": [
    "batch_size = 128\n",
    "seq_length = 100\n",
    "n_epochs =  5# start small if you are just testing initial behavior\n",
    "\n",
    "# train the model\n",
    "train(net, encoded, epochs=n_epochs, batch_size=batch_size, seq_length=seq_length, lr=0.001, print_every=10)"
   ]
  },
  {
   "cell_type": "markdown",
   "metadata": {},
   "source": [
    "## Getting the best model\n",
    "\n",
    "To set your hyperparameters to get the best performance, you'll want to watch the training and validation losses. If your training loss is much lower than the validation loss, you're overfitting. Increase regularization (more dropout) or use a smaller network. If the training and validation losses are close, you're underfitting so you can increase the size of the network."
   ]
  },
  {
   "cell_type": "markdown",
   "metadata": {},
   "source": [
    "## Hyperparameters\n",
    "\n",
    "Here are the hyperparameters for the network.\n",
    "\n",
    "In defining the model:\n",
    "* `n_hidden` - The number of units in the hidden layers.\n",
    "* `n_layers` - Number of hidden LSTM layers to use.\n",
    "\n",
    "We assume that dropout probability and learning rate will be kept at the default, in this example.\n",
    "\n",
    "And in training:\n",
    "* `batch_size` - Number of sequences running through the network in one pass.\n",
    "* `seq_length` - Number of characters in the sequence the network is trained on. Larger is better typically, the network will learn more long range dependencies. But it takes longer to train. 100 is typically a good number here.\n",
    "* `lr` - Learning rate for training\n",
    "\n",
    "Here's some good advice from Andrej Karpathy on training the network. I'm going to copy it in here for your benefit, but also link to [where it originally came from](https://github.com/karpathy/char-rnn#tips-and-tricks).\n",
    "\n",
    "> ## Tips and Tricks\n",
    "\n",
    ">### Monitoring Validation Loss vs. Training Loss\n",
    ">If you're somewhat new to Machine Learning or Neural Networks it can take a bit of expertise to get good models. The most important quantity to keep track of is the difference between your training loss (printed during training) and the validation loss (printed once in a while when the RNN is run on the validation data (by default every 1000 iterations)). In particular:\n",
    "\n",
    "> - If your training loss is much lower than validation loss then this means the network might be **overfitting**. Solutions to this are to decrease your network size, or to increase dropout. For example you could try dropout of 0.5 and so on.\n",
    "> - If your training/validation loss are about equal then your model is **underfitting**. Increase the size of your model (either number of layers or the raw number of neurons per layer)\n",
    "\n",
    "> ### Approximate number of parameters\n",
    "\n",
    "> The two most important parameters that control the model are `n_hidden` and `n_layers`. I would advise that you always use `n_layers` of either 2/3. The `n_hidden` can be adjusted based on how much data you have. The two important quantities to keep track of here are:\n",
    "\n",
    "> - The number of parameters in your model. This is printed when you start training.\n",
    "> - The size of your dataset. 1MB file is approximately 1 million characters.\n",
    "\n",
    ">These two should be about the same order of magnitude. It's a little tricky to tell. Here are some examples:\n",
    "\n",
    "> - I have a 100MB dataset and I'm using the default parameter settings (which currently print 150K parameters). My data size is significantly larger (100 mil >> 0.15 mil), so I expect to heavily underfit. I am thinking I can comfortably afford to make `n_hidden` larger.\n",
    "> - I have a 10MB dataset and running a 10 million parameter model. I'm slightly nervous and I'm carefully monitoring my validation loss. If it's larger than my training loss then I may want to try to increase dropout a bit and see if that helps the validation loss.\n",
    "\n",
    "> ### Best models strategy\n",
    "\n",
    ">The winning strategy to obtaining very good models (if you have the compute time) is to always err on making the network larger (as large as you're willing to wait for it to compute) and then try different dropout values (between 0,1). Whatever model has the best validation performance (the loss, written in the checkpoint filename, low is good) is the one you should use in the end.\n",
    "\n",
    ">It is very common in deep learning to run many different models with many different hyperparameter settings, and in the end take whatever checkpoint gave the best validation performance.\n",
    "\n",
    ">By the way, the size of your training and validation splits are also parameters. Make sure you have a decent amount of data in your validation set or otherwise the validation performance will be noisy and not very informative."
   ]
  },
  {
   "cell_type": "markdown",
   "metadata": {},
   "source": [
    "## Checkpoint\n",
    "\n",
    "After training, we'll save the model so we can load it again later if we need too. Here I'm saving the parameters needed to create the same architecture, the hidden layer hyperparameters and the text characters."
   ]
  },
  {
   "cell_type": "code",
   "execution_count": 40,
   "metadata": {},
   "outputs": [],
   "source": [
    "# change the name, for saving multiple files\n",
    "model_name = 'rnn_x_epoch.net'\n",
    "\n",
    "checkpoint = {'n_hidden': net.n_hidden,\n",
    "              'n_layers': net.n_layers,\n",
    "              'state_dict': net.state_dict(),\n",
    "              'tokens': net.chars}\n",
    "\n",
    "with open(model_name, 'wb') as f:\n",
    "    torch.save(checkpoint, f)"
   ]
  },
  {
   "cell_type": "markdown",
   "metadata": {},
   "source": [
    "---\n",
    "## Making Predictions\n",
    "\n",
    "Now that the model is trained, we'll want to sample from it and make predictions about next characters! To sample, we pass in a character and have the network predict the next character. Then we take that character, pass it back in, and get another predicted character. Just keep doing this and you'll generate a bunch of text!\n",
    "\n",
    "### A note on the `predict`  function\n",
    "\n",
    "The output of our RNN is from a fully-connected layer and it outputs a **distribution of next-character scores**.\n",
    "\n",
    "> To actually get the next character, we apply a softmax function, which gives us a *probability* distribution that we can then sample to predict the next character.\n",
    "\n",
    "### Top K sampling\n",
    "\n",
    "Our predictions come from a categorical probability distribution over all the possible characters. We can make the sample text and make it more reasonable to handle (with less variables) by only considering some $K$ most probable characters. This will prevent the network from giving us completely absurd characters while allowing it to introduce some noise and randomness into the sampled text. Read more about [topk, here](https://pytorch.org/docs/stable/torch.html#torch.topk).\n"
   ]
  },
  {
   "cell_type": "code",
   "execution_count": 41,
   "metadata": {},
   "outputs": [],
   "source": [
    "def predict(net, char, h=None, top_k=None):\n",
    "        ''' Given a character, predict the next character.\n",
    "            Returns the predicted character and the hidden state.\n",
    "        '''\n",
    "        \n",
    "        # tensor inputs\n",
    "        x = np.array([[net.char2int[char]]])\n",
    "        x = one_hot_encode(x, len(net.chars))\n",
    "        inputs = torch.from_numpy(x)\n",
    "        \n",
    "        if(train_on_gpu):\n",
    "            inputs = inputs.cuda()\n",
    "        \n",
    "        # detach hidden state from history\n",
    "        h = tuple([each.data for each in h])\n",
    "        # get the output of the model\n",
    "        out, h = net(inputs, h)\n",
    "\n",
    "        # get the character probabilities\n",
    "        p = F.softmax(out, dim=1).data\n",
    "        if(train_on_gpu):\n",
    "            p = p.cpu() # move to cpu\n",
    "        \n",
    "        # get top characters\n",
    "        if top_k is None:\n",
    "            top_ch = np.arange(len(net.chars))\n",
    "        else:\n",
    "            p, top_ch = p.topk(top_k)\n",
    "            top_ch = top_ch.numpy().squeeze()\n",
    "        \n",
    "        # select the likely next character with some element of randomness\n",
    "        p = p.numpy().squeeze()\n",
    "        char = np.random.choice(top_ch, p=p/p.sum())\n",
    "        \n",
    "        # return the encoded value of the predicted char and the hidden state\n",
    "        return net.int2char[char], h"
   ]
  },
  {
   "cell_type": "markdown",
   "metadata": {},
   "source": [
    "### Priming and generating text \n",
    "\n",
    "Typically you'll want to prime the network so you can build up a hidden state. Otherwise the network will start out generating characters at random. In general the first bunch of characters will be a little rough since it hasn't built up a long history of characters to predict from."
   ]
  },
  {
   "cell_type": "code",
   "execution_count": 42,
   "metadata": {},
   "outputs": [],
   "source": [
    "def sample(net, size, prime='The', top_k=None):\n",
    "        \n",
    "    if(train_on_gpu):\n",
    "        net.cuda()\n",
    "    else:\n",
    "        net.cpu()\n",
    "    \n",
    "    net.eval() # eval mode\n",
    "    \n",
    "    # First off, run through the prime characters\n",
    "    chars = [ch for ch in prime]\n",
    "    h = net.init_hidden(1)\n",
    "    for ch in prime:\n",
    "        char, h = predict(net, ch, h, top_k=top_k)\n",
    "\n",
    "    chars.append(char)\n",
    "    \n",
    "    # Now pass in the previous character and get a new one\n",
    "    for ii in range(size):\n",
    "        char, h = predict(net, chars[-1], h, top_k=top_k)\n",
    "        chars.append(char)\n",
    "\n",
    "    return ''.join(chars)"
   ]
  },
  {
   "cell_type": "code",
   "execution_count": 37,
   "metadata": {},
   "outputs": [
    {
     "name": "stdout",
     "output_type": "stream",
     "text": [
      "['A', 'n', 'n', 'a', 's', ' ', 'o', 'u', 'd', ' ', 'h', 'o', 't', ' ', 's', 'o', 't', 'e', ' ', 's', 'o', 'r', 'e', ' ', 'o', 'f', ' ', 't', 'h', 'e', ' ', 'h', 'a', 's', ' ', 'h', 'e', 's', ' ', 's', 'e', 'r', 'e', ' ', 's', 'o', 't', 't', 'e', ' ', 'w', 'a', 'n', ' ', 'a', 'r', ' ', 'h', 'e', 'r', ' ', 't', 'i', 'n', ' ', 't', 'h', 'e', ' ', 's', 'a', 'r', 'e', ' ', 'a', 'n', 'd', ' ', 't', 'h', 'e', ' ', 'w', 'i', 'm', 'e', ' ', 's', 'h', 'e', 'r', ' ', 't', 'h', 'e', ' ', 'w', 'a', 't', 'h', 'e', ' ', 'w', 'o', 't', 'h', ' ', 's', 'h', 'i', 't', 'e', ' ', 's', 'o', 'u', 'l', 'i', 't', 'g', ' ', 'o', 'n', ' ', 'h', 'i', 's', ' ', 'h', 'e', 'r', 'r', 'a', 's', 'i', 't', 'h', 'i', 's', 'g', ' ', 'w', 'a', 'n', 'd', ' ', 'a', 'n', 'e', ' ', 't', 'h', 'a', 'r', ' ', 'i', 'f', ' ', 'h', 'a', 't', ' ', 'h', 'e', ' ', 'm', 'a', 's', 'e', 'n', ' ', 't', 'o', ' ', 'w', 'o', 'u', ' ', 's', 'i', 'n', ' ', 'o', 'f', '\\n', 't', 'h', 'o', ' ', 'c', 'h', 'e', ' ', 'h', 'a', 's', ' ', 's', 'o', 'e', ' ', 's', 'h', 'o', 't', ' ', 'a', 'n', 'd', ' ', 'w', 'i', 's', ' ', 'a', 't', ' ', 'a', 'n', 't', 'i', 'n', 'g', ' ', 'a', 't', ' ', 'h', 'i', 't', ' ', 's', 'a', 'l', 'l', 'i', 'n', 'n', ',', ' ', 'a', 't', ' ', 'o', 'u', ' ', 'w', 'i', 't', ' ', 'o', 'n', ' ', 'o', 'r', ' ', 't', 'h', 'e', ' ', 'h', 'a', 'r', ' ', 'a', 'n', 'd', ' ', 't', 'h', 'e', 'r', ',', ' ', 'w', 'o', 'n', 'd', ' ', 't', 'h', 'e', ' ', 't', 'h', 'e', ' ', 't', 'h', 'a', 'r', 'e', 'd', ' ', 'w', 'e', ' ', 'w', 'e', 't', ' ', 's', 'h', 'o', 'n', ' ', 'h', 'u', 's', ' ', 't', 'h', 'e', ' ', 's', 'a', 'n', 'd', ' ', 'w', 'h', 'a', ' ', 's', 'h', 'e', ' ', 'w', 'h', 'e', ' ', 'w', 'a', 't', ' ', 'h', 'e', ' ', 't', 'h', 'a', ' ', 's', 'a', 's', 's', 'e', 's', ' ', 'a', 'n', 's', 'e', 'r', 'i', 'n', 'n', ' ', 't', 'h', 'e', 't', ' ', 'h', 'e', 'r', ' ', 'a', 'l', 'd', ' ', 'w', 'o', 'm', ' ', 't', 'h', 'a', ' ', 't', 'a', 's', 'e', ',', ',', ' ', 'h', 'e', ' ', 'w', 'a', 't', ' ', 't', 'h', 'e', ' ', 's', 'e', 'e', 'n', 't', 'e', ' ', 'a', 'n', 'd', ' ', 't', 'h', 'e', ' ', 'h', 'e', 'r', ' ', 's', 'o', 'r', 'i', 't', ' ', 'o', 'n', ' ', 'h', 'e', ' ', 's', 'r', 'u', 'n', 'd', ',', '\\n', '\\n', 'I', ' ', 'w', 'a', 'n', 'd', ' ', 'w', 'a', 's', ' ', 's', 'h', 'e', ' ', 't', 'o', 'u', 'd', ' ', 's', 'o', 't', 't', ' ', 'a', 'l', 'e', ',', ' ', 't', 'o', 'r', ' ', 'o', 'u', 'd', ' ', 's', 'h', 'i', 'n', 'e', ' ', 'w', 'a', 'r', 't', ' ', 't', 'h', 'e', ' ', 'h', 'i', 'n', 's', '\\n', 't', 'i', 't', 't', ' ', 'h', 'a', 's', ' ', 's', 'e', 'o', 't', ' ', 'h', 'o', 'r', ' ', 'i', 'f', ' ', 't', 'h', 'i', 'n', 'g', 'e', 'r', ' ', 'a', 'n', 'e', 'd', ' ', 'h', 'e', 'r', 'r', 'i', 't', 'g', ',', ' ', 'a', 'n', 'd', ' ', 't', 'h', 'e', ' ', 's', 'a', 't', ' ', 't', 'h', 'i', 's', ' ', 'h', 'i', 't', ' ', 't', 'i', 't', 't', ' ', 't', 'h', 'i', 't', 'h', ' ', 't', 'h', 'i', 's', ' ', 'h', 'e', 'r', ' ', 'a', 'r', 'd', 'e', 's', 's', ' ', 'i', 'f', 'e', 's', ' ', 't', 'h', 'e', ' ', 'w', 'a', 's', 's', 'e', ' ', 'a', 'l', 'd', ' ', 'w', 'o', 'r', 't', 'e', ' ', 't', 'h', 'e', ' ', 't', 'o', ' ', 's', 'o', 'r', ' ', 'h', 'i', 's', ' ', 'h', 'i', 's', 't', 'i', 'n', 's', ' ', 'w', 'a', 'm', 'e', ' ', 'h', 'e', ' ', 'c', 'h', 'e', 't', ' ', 'h', 'e', ' ', 'c', 'a', 'n', 't', 'h', ' ', 'o', 'r', ' ', 'h', 'e', ' ', 's', 'o', 'r', 'l', 'a', 's', ',', ' ', 'w', 'o', 't', 'h', ',', ' ', 'h', 'e', 'd', ' ', 'b', 'e', 'a', 'n', 'd', ' ', 'h', 'o', 'r', ' ', 's', 'a', 's', ' ', 't', 'h', 'e', ' ', 's', 'o', 'r', 'l', 'i', 'n', 'g', '.', ' ', 'H', 'o', ' ', 's', 'o', 'r', ' ', 'a', 'n', 'd', ' ', 'a', 'n', ' ', 'a', 'n', ' ', 'a', 's', 't', 'e', 'l', 'l', 'e', ',', ' ', 'a', 'n', 'd', ' ', 's', 'o', 'u', 't', ' ', 'a', 'f', ' ', 't', 'h', 'e', ' ', 's', 'o', 'u', 's', ' ', 't', 'o', ' ', 's', 'h', 'e', ' ', 't', 'a', 'l', 'e', ' ', 'a', 'n', 't', 'e', ' ', 't', 'h', 'e', ' ', 't', 'e', 'r', ' ', 'a', 'n', 'e', ' ', 's', 'h', 'e', 'r', ' ', 'h', 'e', ' ', 's', 'o', 's', ' ', 'a', 'f', 'd', 'i', 's', 'e', ' ', 't', 'e', ' ', 't', 'h', 'a', 't', ' ', 'h', 'e', ' ', 'm', 'e', 'r', 'e', ' ', 'o', 'n', ' ', 'h', 'i', 'm', 'e', ' ', 'a', 't', 'h', ' ', 's', 'o', ' ', 'h', 'e', 'r', ' ', 'h', 'e', 'r', ' ', 'a', 'n', ' ', 't', 'h', 'e', ' ', 'c', 'o', 'n', 'l', 'e', ',', ' ', 't', 'h', 'o', 'u', 'n', ' ', 'a', 'n', 'd', ' ', 'a', 'f', 'd', 'a', 'd', ' ', 'h', 'e', ' ', 'a', 'r', 'l', 'i', 'd', 'e', 'd', ' ', 'a', 'r', 'd', ' ', 't', 'h', 'e', ' ', 'w', 'a', 's', ' ', 'a', 'n', 'e', ' ', 'a', 't', 'o', ' ', 't', 'h', 'e', ' ', 't', 'e', 'l', 'y', '.', ' ', 'I', '\"', ' ', 'h', 'e', 's', ' ', 't', 'a', 's', ' ', 't', 'o', 'r', 'i', 'n', 'e', 'd', ' ', 't', 'h', ' ', 't', 'h', 'o', ' ', 't', 'h', ' ', 't', 'h', 'a', 't', ' ', 'h', 'e', 'r', ' ', 'a', 'r', 't', 'a', 'r', 't', 'e', ' ', 'a', 'l', 'l', 'i', 'n', 't', ' ', 'o', 'n', ' ', 'w', 'a', 'r', 't', ' ', 't', 'o', 't', 'e', ' ', 's', 'e', 'r', ' ', 't', 'a', 's', 's', ' ', 'o', 'n', 't', 'e', 'r', ' ', 'o', 't', ' ', 'h', 'e', ' ', 'm', 'o', 'n', 's', ' ', 'i', 't']\n"
     ]
    }
   ],
   "source": [
    "print(sample(net, 1000, prime='Anna', top_k=5))"
   ]
  },
  {
   "cell_type": "code",
   "execution_count": 43,
   "metadata": {},
   "outputs": [
    {
     "name": "stdout",
     "output_type": "stream",
     "text": [
      "Anna were betide on her\n",
      "how of\n",
      "the sare, that he\n",
      "was sitting. He could not care and than and were succ of the finsite was not, and the fairing of seeted the caurse and taken into the came and a step in the\n",
      "rast and horses, but when a saigers on a posting had any failt to\n",
      "her asseed at the position, and he had now that he was so man who would have such for to her tean of the marshal armost his feas of\n",
      "the postibuty of the platire and subject of the point in her hunds. The monest wonding one thought and stroigh, and the first show a latered that she was\n",
      "the sories\n",
      "and she had trued in her eyes, and had been such a counce.\n",
      "\n",
      "\"You can't be tee your altartions and moment on to her it was all a cording that to bore, and though he has the chair from the secorsion of a land of the fame.\n",
      "\n",
      "And he was to say a mustres the plice at her and wile, with a perteanch, and hurred him, the prover of the counted, her hand, and to be a strang of into the saintents with, which and have seemed to blaw, the chent h\n"
     ]
    }
   ],
   "source": [
    "print(sample(net, 1000, prime='Anna', top_k=5))"
   ]
  },
  {
   "cell_type": "code",
   "execution_count": 45,
   "metadata": {
    "scrolled": true
   },
   "outputs": [
    {
     "data": {
      "text/plain": [
       "OrderedDict([('lstm.weight_ih_l0',\n",
       "              tensor([[-5.6685e-02, -1.3005e-01,  1.2976e-01,  ..., -7.4676e-02,\n",
       "                       -8.7728e-02,  2.7572e-02],\n",
       "                      [-1.7332e-02, -1.3377e-03,  2.1305e-01,  ..., -7.5602e-02,\n",
       "                       -9.9301e-02, -4.5468e-02],\n",
       "                      [ 1.6488e-01,  2.5008e-01,  4.0711e-02,  ..., -2.5747e-02,\n",
       "                        1.0942e-02, -5.8736e-02],\n",
       "                      ...,\n",
       "                      [ 1.6658e-01,  8.9254e-02,  1.5078e-02,  ..., -1.2172e-01,\n",
       "                       -7.9179e-02, -3.9147e-02],\n",
       "                      [-5.4128e-02,  2.5679e-01,  8.0953e-02,  ..., -1.5116e-01,\n",
       "                       -1.9893e-03,  2.7683e-02],\n",
       "                      [ 2.6649e-01,  2.8001e-01,  2.8302e-01,  ...,  1.7315e-01,\n",
       "                       -6.0635e-02, -4.2184e-02]], device='cuda:0')),\n",
       "             ('lstm.weight_hh_l0',\n",
       "              tensor([[-1.4676e-01, -1.3445e-01, -9.4009e-02,  ...,  5.8830e-02,\n",
       "                        6.8630e-02,  8.9379e-02],\n",
       "                      [-4.1420e-03, -7.3693e-02,  2.9334e-02,  ..., -2.1538e-02,\n",
       "                        1.8134e-02,  9.2310e-03],\n",
       "                      [-2.0400e-01, -2.5697e-01, -1.8399e-01,  ...,  5.5773e-02,\n",
       "                       -1.7076e-01,  2.0657e-01],\n",
       "                      ...,\n",
       "                      [-1.1143e-01, -8.0566e-02,  1.2528e-01,  ...,  4.9676e-02,\n",
       "                        2.3007e-02, -3.6305e-02],\n",
       "                      [-5.0104e-02, -9.0323e-02,  7.6255e-02,  ...,  4.1554e-02,\n",
       "                        2.8001e-02, -9.3816e-02],\n",
       "                      [ 5.5787e-02, -1.6213e-01,  1.3212e-01,  ...,  1.4283e-01,\n",
       "                       -2.2056e-01,  1.6431e-01]], device='cuda:0')),\n",
       "             ('lstm.bias_ih_l0',\n",
       "              tensor([ 0.0916,  0.0473,  0.1041,  ...,  0.0694,  0.0843,  0.0726], device='cuda:0')),\n",
       "             ('lstm.bias_hh_l0',\n",
       "              tensor([ 8.4966e-02,  1.0116e-01,  1.0381e-01,  ...,  1.1593e-01,\n",
       "                       4.2070e-02,  9.8839e-02], device='cuda:0')),\n",
       "             ('lstm.weight_ih_l1',\n",
       "              tensor([[ 4.3272e-02, -4.2398e-02,  9.4461e-02,  ...,  3.9355e-02,\n",
       "                        2.9145e-02,  2.2909e-02],\n",
       "                      [ 8.2244e-02, -1.1037e-02,  1.6094e-01,  ..., -7.9253e-02,\n",
       "                        8.1993e-02, -1.2217e-01],\n",
       "                      [ 2.9063e-02,  8.9368e-03, -4.8781e-02,  ...,  2.7006e-01,\n",
       "                       -8.5912e-02,  5.6283e-02],\n",
       "                      ...,\n",
       "                      [-1.8387e-01,  5.6667e-03, -1.1225e-01,  ...,  8.7352e-02,\n",
       "                       -2.6523e-01,  1.2509e-01],\n",
       "                      [ 4.8340e-02,  9.6848e-03, -1.7412e-02,  ..., -7.5687e-02,\n",
       "                        1.1450e-01, -1.9901e-01],\n",
       "                      [ 4.4613e-02,  2.2956e-02, -5.5681e-02,  ..., -4.4698e-02,\n",
       "                        4.8054e-02,  1.8739e-01]], device='cuda:0')),\n",
       "             ('lstm.weight_hh_l1',\n",
       "              tensor([[ 2.5174e-02, -5.7439e-02, -1.7533e-02,  ..., -6.6375e-02,\n",
       "                        3.6022e-02, -1.7083e-02],\n",
       "                      [ 7.0618e-02, -2.4693e-01, -1.1112e-01,  ..., -1.0805e-01,\n",
       "                        6.9353e-02,  1.6281e-01],\n",
       "                      [ 5.6137e-02,  1.0750e-01,  1.9171e-01,  ..., -9.3208e-02,\n",
       "                       -7.9303e-02, -8.1262e-02],\n",
       "                      ...,\n",
       "                      [-4.2416e-02, -5.5108e-02, -2.9452e-03,  ...,  5.5910e-02,\n",
       "                       -5.2878e-02, -3.8760e-02],\n",
       "                      [ 2.6619e-02, -5.2464e-02, -2.0225e-01,  ..., -4.3472e-02,\n",
       "                        9.4321e-02, -1.7086e-02],\n",
       "                      [ 1.2213e-02, -1.2675e-01,  5.7845e-02,  ...,  2.4041e-02,\n",
       "                       -1.9106e-04, -1.1581e-01]], device='cuda:0')),\n",
       "             ('lstm.bias_ih_l1',\n",
       "              tensor([ 0.0877,  0.0562,  0.0874,  ..., -0.0120,  0.0690, -0.0165], device='cuda:0')),\n",
       "             ('lstm.bias_hh_l1',\n",
       "              tensor([ 9.5114e-02,  6.0327e-02,  7.7831e-02,  ..., -1.6736e-02,\n",
       "                       8.5241e-02,  1.6181e-02], device='cuda:0')),\n",
       "             ('fc.weight',\n",
       "              tensor([[-1.0039e-01,  7.3765e-02, -1.8674e-03,  ...,  1.1120e-01,\n",
       "                       -8.9067e-02,  1.2684e-02],\n",
       "                      [-2.7952e-02, -4.0891e-02,  1.6461e-02,  ..., -4.5531e-02,\n",
       "                       -7.1297e-02, -7.4118e-03],\n",
       "                      [-7.9692e-02,  7.0209e-02,  1.9683e-02,  ...,  8.7935e-02,\n",
       "                       -6.0553e-02,  6.5319e-03],\n",
       "                      ...,\n",
       "                      [-8.0469e-02,  5.8477e-02, -1.8474e-02,  ...,  1.1296e-01,\n",
       "                       -1.0190e-01, -2.3402e-02],\n",
       "                      [-6.1244e-02,  1.2309e-01, -3.2286e-02,  ...,  1.2512e-01,\n",
       "                       -8.0829e-02, -3.1597e-02],\n",
       "                      [-1.4090e-01,  5.4621e-03, -8.8293e-02,  ...,  1.2253e-01,\n",
       "                        6.8514e-02, -6.7875e-02]], device='cuda:0')),\n",
       "             ('fc.bias',\n",
       "              tensor([-0.0890, -0.0627, -0.1364, -0.1399, -0.0908, -0.1272, -0.0010,\n",
       "                      -0.1552,  0.0351,  0.0227, -0.0547, -0.1873, -0.0144, -0.1066,\n",
       "                       0.0137,  0.0236,  0.0914, -0.1294,  0.0377, -0.1687, -0.1957,\n",
       "                      -0.1253, -0.1754, -0.1061, -0.1403, -0.1588, -0.1035, -0.1294,\n",
       "                      -0.0870, -0.1307, -0.0911, -0.1833, -0.1314, -0.1118, -0.1748,\n",
       "                      -0.0234,  0.0041,  0.0746,  0.0250, -0.1635, -0.1470, -0.1150,\n",
       "                      -0.0868, -0.1590, -0.1150, -0.1502, -0.0015, -0.1407,  0.0253,\n",
       "                      -0.1487, -0.0391, -0.0520, -0.1228, -0.0655, -0.1487, -0.1431,\n",
       "                      -0.0672, -0.0767, -0.2072, -0.1523, -0.1333, -0.1379, -0.0745,\n",
       "                      -0.1580, -0.1578, -0.0364, -0.1410,  0.0423, -0.1421,  0.0541,\n",
       "                       0.0320, -0.0372, -0.1668, -0.0072, -0.0682, -0.1946, -0.1395,\n",
       "                      -0.1418, -0.1774,  0.0231, -0.1265, -0.0851, -0.1490], device='cuda:0'))])"
      ]
     },
     "execution_count": 45,
     "metadata": {},
     "output_type": "execute_result"
    }
   ],
   "source": [
    "checkpoint['state_dict']"
   ]
  },
  {
   "cell_type": "markdown",
   "metadata": {},
   "source": [
    "## Loading a checkpoint"
   ]
  },
  {
   "cell_type": "code",
   "execution_count": null,
   "metadata": {},
   "outputs": [],
   "source": []
  },
  {
   "cell_type": "code",
   "execution_count": 46,
   "metadata": {},
   "outputs": [],
   "source": [
    "# Here we have loaded in a model that trained over 20 epochs `rnn_20_epoch.net`\n",
    "with open('rnn_x_epoch.net', 'rb') as f:\n",
    "    checkpoint = torch.load(f)\n",
    "    \n",
    "loaded = CharRNN(checkpoint['tokens'], n_hidden=checkpoint['n_hidden'], n_layers=checkpoint['n_layers'])\n",
    "loaded.load_state_dict(checkpoint['state_dict'])"
   ]
  },
  {
   "cell_type": "code",
   "execution_count": 47,
   "metadata": {},
   "outputs": [
    {
     "name": "stdout",
     "output_type": "stream",
     "text": [
      "And Levin said in his hands of a langer where theyellest and to bet one timiss,\n",
      "the farter of the cauriatess wouted, and that she could not be a fros towards, and, some offer out of to him about him and with hir assed. The service hunged on that that\n",
      "sees was all still\n",
      "with\n",
      "her eyes. \"And we can't she went out of him. And he dinner the minner it would be to hought that in to to the minule, and as the clist mant was\n",
      "not to be impessed it in its to she when the sectem of the parterness to\n",
      "the feeling\n",
      "of hore in her heally as in the painted. Anna tratesing on her satisfactions that she he would have said over that the compen of a position out of supfortice and truch the frictse in his sear, and this at any mone feal of her his on and wanded of that the caurt of his hands on his bott him, and the peast and same on the middle of a since he was sorties what all still\n",
      "mothouged and the sturned of his foutition.\n",
      "\n",
      "And the masters with his what had been to head the sorn, shill, and at a senderister with a last comman of\n",
      "the mind were of\n",
      "it. A fros housa concertation, and to\n",
      "his head that the much answiling her howself and standeres of the mints to say that he went uso in a long and\n",
      "sense and all or her side to see a show that their possible child and with sice of the\n",
      "perticulary, and the storm of steps when he was the patsing this said three old, had been\n",
      "coming farely weatter his fill the convorsation of this compors with his figure and his face. After have to the marrialered on the frighed-attencion.\n",
      "\n",
      "\"They werl mare and talked in how that I can't can a can and there to\n",
      "mare that they take her, and his freething of their mother. If I don't know you make to see hore. He's so think.\" \n",
      "\"I'm not tell mishing that still me sould a country, the saye than say with the\n",
      "same tried. It's a stare, stope than excasitions\n",
      "with a consupestions were are footing to the chante that he head the poorsess to her to she was so much always sitter.\n",
      "\n",
      "At a senst\n",
      "the crearations, that she\n",
      "was as he had been\n",
      "said t\n"
     ]
    }
   ],
   "source": [
    "# Sample using a loaded model\n",
    "print(sample(loaded, 2000, top_k=5, prime=\"And Levin said\"))"
   ]
  },
  {
   "cell_type": "code",
   "execution_count": null,
   "metadata": {
    "collapsed": true
   },
   "outputs": [],
   "source": []
  }
 ],
 "metadata": {
  "kernelspec": {
   "display_name": "Python 3",
   "language": "python",
   "name": "python3"
  },
  "language_info": {
   "codemirror_mode": {
    "name": "ipython",
    "version": 3
   },
   "file_extension": ".py",
   "mimetype": "text/x-python",
   "name": "python",
   "nbconvert_exporter": "python",
   "pygments_lexer": "ipython3",
   "version": "3.6.3"
  }
 },
 "nbformat": 4,
 "nbformat_minor": 2
}
